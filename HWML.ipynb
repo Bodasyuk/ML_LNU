{
 "cells": [
  {
   "cell_type": "code",
   "execution_count": 1,
   "metadata": {},
   "outputs": [
    {
     "name": "stdout",
     "output_type": "stream",
     "text": [
      "[[8 4 6 ... 3 5 3]\n",
      " [3 1 4 ... 0 0 6]\n",
      " [7 0 7 ... 6 0 8]\n",
      " ...\n",
      " [4 6 2 ... 6 4 6]\n",
      " [8 5 8 ... 3 5 7]\n",
      " [7 8 3 ... 2 5 3]] \n",
      "\n",
      "[[1 5 2 ... 4 6 1]\n",
      " [5 2 0 ... 8 2 8]\n",
      " [7 5 8 ... 6 2 8]\n",
      " ...\n",
      " [1 1 6 ... 1 4 6]\n",
      " [3 3 5 ... 7 7 3]\n",
      " [5 7 1 ... 5 2 3]] \n",
      "\n",
      "Time  = 0.9983625411987305 \n",
      "\n",
      "Time dot  = 0.0009639263153076172 \n",
      "\n",
      "Difference  = 0.9973986148834229 \n",
      "\n"
     ]
    }
   ],
   "source": [
    "import numpy as np\n",
    "import time\n",
    "n=100\n",
    "m=100\n",
    "l=100\n",
    "k=9\n",
    "N=np.random.randint(k, size=(n,m))\n",
    "M=np.random.randint(k, size=(n,m))\n",
    "print(N,\"\\n\")\n",
    "\n",
    "print(M,\"\\n\")\n",
    "s = (m, l)\n",
    "###\n",
    "res1 = np.zeros(s)\n",
    "stime1 = time.time()\n",
    "for i in range(len(N)):\n",
    "   for j in range(len(M[0])):\n",
    "       for k in range(len(M)):\n",
    "           res1[i][j] += N[i][k] * M[k][j]\n",
    "ftime1 = time.time()\n",
    "print(\"Time  =\", ftime1 - stime1, \"\\n\")\n",
    "res2 = np.zeros(s)\n",
    "stime2 = time.time()\n",
    "res2 = np.dot(N,M)\n",
    "ftime2 = time.time()\n",
    "print(\"Time dot  =\", ftime2 - stime2, \"\\n\")\n",
    "print(\"Difference  =\", ftime1 - stime1 - ftime2 + stime2, \"\\n\" )"
   ]
  },
  {
   "cell_type": "code",
   "execution_count": null,
   "metadata": {},
   "outputs": [],
   "source": []
  },
  {
   "cell_type": "code",
   "execution_count": null,
   "metadata": {},
   "outputs": [],
   "source": []
  }
 ],
 "metadata": {
  "kernelspec": {
   "display_name": "Python 3",
   "language": "python",
   "name": "python3"
  },
  "language_info": {
   "codemirror_mode": {
    "name": "ipython",
    "version": 3
   },
   "file_extension": ".py",
   "mimetype": "text/x-python",
   "name": "python",
   "nbconvert_exporter": "python",
   "pygments_lexer": "ipython3",
   "version": "3.7.4"
  }
 },
 "nbformat": 4,
 "nbformat_minor": 4
}

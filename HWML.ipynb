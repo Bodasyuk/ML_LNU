{
 "cells": [
  {
   "cell_type": "code",
   "execution_count": 8,
   "metadata": {},
   "outputs": [
    {
     "name": "stdout",
     "output_type": "stream",
     "text": [
      "[[8 6 2 ... 0 4 8]\n",
      " [8 4 8 ... 3 5 3]\n",
      " [0 1 8 ... 7 6 0]\n",
      " ...\n",
      " [4 2 7 ... 2 1 3]\n",
      " [7 7 8 ... 5 4 3]\n",
      " [6 4 3 ... 3 7 1]] \n",
      "\n",
      "[[5 1 2 ... 0 1 0]\n",
      " [0 0 3 ... 0 8 2]\n",
      " [6 2 8 ... 6 0 0]\n",
      " ...\n",
      " [5 4 8 ... 3 0 5]\n",
      " [3 7 5 ... 5 5 4]\n",
      " [2 1 4 ... 5 1 0]] \n",
      "\n",
      "Time  = 1.3635103702545166 \n",
      "\n",
      "Time dot  = 0.0009984970092773438 \n",
      "\n",
      "Difference  = 1.3625118732452393 \n",
      "\n"
     ]
    }
   ],
   "source": [
    "import numpy as np\n",
    "import time\n",
    "n=100\n",
    "m=100\n",
    "l=100\n",
    "k=9\n",
    "N=np.random.randint(k, size=(n,m))\n",
    "M=np.random.randint(k, size=(n,m))\n",
    "print(N,\"\\n\")\n",
    "\n",
    "print(M,\"\\n\")\n",
    "s = (m, l)\n",
    "###\n",
    "res1 = np.zeros(s)\n",
    "stime1 = time.time()\n",
    "for i in range(len(N)):\n",
    "   for j in range(len(M[0])):\n",
    "       for k in range(len(M)):\n",
    "           result1[i][j] += N[i][k] * M[k][j]\n",
    "ftime1 = time.time()\n",
    "print(\"Time  =\", ftime1 - stime1, \"\\n\")\n",
    "res2 = np.zeros(s)\n",
    "stime2 = time.time()\n",
    "res2 = np.dot(N,M)\n",
    "ftime2 = time.time()\n",
    "print(\"Time dot  =\", ftime2 - stime2, \"\\n\")\n",
    "print(\"Difference  =\", ftime1 - stime1 - ftime2 + stime2, \"\\n\" )"
   ]
  },
  {
   "cell_type": "code",
   "execution_count": null,
   "metadata": {},
   "outputs": [],
   "source": []
  },
  {
   "cell_type": "code",
   "execution_count": null,
   "metadata": {},
   "outputs": [],
   "source": []
  }
 ],
 "metadata": {
  "kernelspec": {
   "display_name": "Python 3",
   "language": "python",
   "name": "python3"
  },
  "language_info": {
   "codemirror_mode": {
    "name": "ipython",
    "version": 3
   },
   "file_extension": ".py",
   "mimetype": "text/x-python",
   "name": "python",
   "nbconvert_exporter": "python",
   "pygments_lexer": "ipython3",
   "version": "3.7.6"
  }
 },
 "nbformat": 4,
 "nbformat_minor": 4
}
